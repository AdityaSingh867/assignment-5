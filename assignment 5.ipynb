{
 "cells": [
  {
   "cell_type": "markdown",
   "id": "5e772450-8c0a-41d2-9e2b-93e722fa0ea2",
   "metadata": {},
   "source": [
    "Q1 who developed python programming language ?"
   ]
  },
  {
   "cell_type": "markdown",
   "id": "55cff673-51fd-41be-ad50-de1023995ba8",
   "metadata": {},
   "source": [
    "Ans 1 ---"
   ]
  },
  {
   "cell_type": "markdown",
   "id": "d2f440d4-067d-4fae-8d34-e9963f9e3245",
   "metadata": {},
   "source": [
    "Guido van Rossum"
   ]
  },
  {
   "cell_type": "markdown",
   "id": "f3859343-c209-4b2f-a8b9-b8324d054905",
   "metadata": {},
   "source": [
    "Q2 which type of programming does python support ?"
   ]
  },
  {
   "cell_type": "markdown",
   "id": "0fdd7f4c-d55a-41e9-b718-680aa8457eae",
   "metadata": {},
   "source": [
    "Ans 2 ---"
   ]
  },
  {
   "cell_type": "markdown",
   "id": "9e94125b-49ca-43c0-b9da-8e7279cabe94",
   "metadata": {},
   "source": [
    "python support object-oriented, structured, and functional programming."
   ]
  },
  {
   "cell_type": "markdown",
   "id": "7bfafc48-ab5b-4963-a190-7d241f0a9e95",
   "metadata": {},
   "source": [
    "Q3 is python is case sensitive when dealing with identifiers ?"
   ]
  },
  {
   "cell_type": "markdown",
   "id": "3cf10dbb-7a0c-41ec-ad19-8efd372bf1e7",
   "metadata": {},
   "source": [
    "Ans 3 ---"
   ]
  },
  {
   "cell_type": "markdown",
   "id": "4d72a2f9-48e6-4ca1-b961-48999462b29f",
   "metadata": {},
   "source": [
    "Yes, python is case sensitive when dealing with identifiers."
   ]
  },
  {
   "cell_type": "markdown",
   "id": "df7eaeb3-d1a0-4812-923c-d7108019cc7a",
   "metadata": {},
   "source": [
    "Q4 what is the correct extension of the python file ?"
   ]
  },
  {
   "cell_type": "markdown",
   "id": "deda1944-fdce-4a00-bd8e-d83c503ce992",
   "metadata": {},
   "source": [
    "Ans 4 --"
   ]
  },
  {
   "cell_type": "markdown",
   "id": "4a8446e0-4708-427e-9e11-46302f17f4eb",
   "metadata": {},
   "source": [
    ".py"
   ]
  },
  {
   "cell_type": "markdown",
   "id": "62beff8b-1a9f-49cf-953f-da9f759cf453",
   "metadata": {},
   "source": [
    "Q5 is python code compiled or interpreted ?"
   ]
  },
  {
   "cell_type": "markdown",
   "id": "d3b526ed-488d-4586-acf4-da23e3be9dc8",
   "metadata": {},
   "source": [
    "Ans 5 --"
   ]
  },
  {
   "cell_type": "markdown",
   "id": "05368a72-a2ca-4b50-a3c1-d583ee1385d5",
   "metadata": {},
   "source": [
    "python is interpreted language."
   ]
  },
  {
   "cell_type": "markdown",
   "id": "a2a5c2f8-2bf7-4696-bcca-c00c7dfa34c4",
   "metadata": {},
   "source": [
    "Q6 name a few blocks of code used to define in python ?"
   ]
  },
  {
   "cell_type": "markdown",
   "id": "1a8f4cb4-741c-434f-aa84-fe5d509fa89c",
   "metadata": {},
   "source": [
    "Ans 6 --"
   ]
  },
  {
   "cell_type": "markdown",
   "id": "4438d6f5-0bc7-4c79-9d2e-b11ff6faf4e0",
   "metadata": {},
   "source": [
    "module , function body, class definition."
   ]
  },
  {
   "cell_type": "markdown",
   "id": "2a671738-54a5-4417-ad38-a1a51daa548b",
   "metadata": {},
   "source": [
    "Q7 state a character used to give single-line comment in python ?"
   ]
  },
  {
   "cell_type": "markdown",
   "id": "09b46931-3c04-45ef-b23b-edbf38bdee9d",
   "metadata": {},
   "source": [
    "Ans 7 --"
   ]
  },
  {
   "cell_type": "raw",
   "id": "951b79f0-6d7a-478a-bc7d-4163710c396a",
   "metadata": {},
   "source": [
    "#"
   ]
  },
  {
   "cell_type": "markdown",
   "id": "fb274272-7eb7-4985-ac6f-e4459e2371aa",
   "metadata": {},
   "source": [
    "Q8 mention functions which can help us to find the version of python that we are currently working on ?"
   ]
  },
  {
   "cell_type": "markdown",
   "id": "a1e527a3-f8d5-493b-b92d-b9ccfda616c7",
   "metadata": {},
   "source": [
    "Ans 8 --"
   ]
  },
  {
   "cell_type": "markdown",
   "id": "43b67738-a10f-4f92-8faa-e60ce2863cb6",
   "metadata": {},
   "source": [
    "sys."
   ]
  },
  {
   "cell_type": "markdown",
   "id": "abe14510-3c3d-4ec0-91ca-2d40c804658b",
   "metadata": {},
   "source": [
    "Q9 python supports the creation of anonymous functions at runtime , using a construct called ?"
   ]
  },
  {
   "cell_type": "markdown",
   "id": "b322f4f8-0ad0-4dc0-af8e-c2269ea0b035",
   "metadata": {},
   "source": [
    "Ans 9 --"
   ]
  },
  {
   "cell_type": "raw",
   "id": "94ba193e-3dac-4c70-9ed8-71aff37860f1",
   "metadata": {},
   "source": [
    "lambda"
   ]
  },
  {
   "cell_type": "markdown",
   "id": "0beda4dd-1d36-4903-b15f-641514c238e9",
   "metadata": {},
   "source": [
    "Q10 what does pip stand for python ?"
   ]
  },
  {
   "cell_type": "markdown",
   "id": "5bcec36f-a736-4d03-afaa-b98b9b2dfa3e",
   "metadata": {},
   "source": [
    "Ans 10 --"
   ]
  },
  {
   "cell_type": "markdown",
   "id": "04089b26-ff42-4635-b925-ebea78a6d40a",
   "metadata": {},
   "source": [
    "pip Install Packages."
   ]
  },
  {
   "cell_type": "markdown",
   "id": "6cabca00-715b-4e0a-b011-f1bb5a548447",
   "metadata": {},
   "source": [
    "Q11 mention a few built-in functions in python ?"
   ]
  },
  {
   "cell_type": "markdown",
   "id": "520a1da3-437e-4377-b7f9-54e57c638d02",
   "metadata": {},
   "source": [
    "Ans 11 --"
   ]
  },
  {
   "cell_type": "raw",
   "id": "c3b13ddc-cc3c-4dcf-8a02-0d058c079232",
   "metadata": {},
   "source": [
    "Function\n",
    "bin()\n",
    "bool()\n",
    "bytearray()\n",
    "bytes()"
   ]
  },
  {
   "cell_type": "markdown",
   "id": "4f5dd145-3f6d-4fc9-8173-ba9395e143d7",
   "metadata": {},
   "source": [
    "Q12 what is maximum possible length of an identifier in python ?"
   ]
  },
  {
   "cell_type": "markdown",
   "id": "93819e8e-54e3-41df-9d24-32c86a969696",
   "metadata": {},
   "source": [
    "Ans 12 --"
   ]
  },
  {
   "cell_type": "markdown",
   "id": "dbd5e933-dc53-4e0c-87fa-29ba2bbc7e42",
   "metadata": {},
   "source": [
    "79 characters"
   ]
  },
  {
   "cell_type": "markdown",
   "id": "017aa5af-548a-4bd0-bb03-052a7337ad4e",
   "metadata": {},
   "source": [
    "Q13 what are the benefits of using python ?"
   ]
  },
  {
   "cell_type": "markdown",
   "id": "200d3003-3d85-440f-8045-892ab0431aa7",
   "metadata": {},
   "source": [
    "Ans 13 --"
   ]
  },
  {
   "cell_type": "raw",
   "id": "529188aa-aed0-4451-bfa8-2df1215b844d",
   "metadata": {},
   "source": [
    "benefits of using python \n",
    "\n",
    "- data science.\n",
    "- Scientific and mathematical computing.\n",
    "- Web development.\n",
    "- Finance and trading.\n",
    "- Computer graphics.\n",
    "- Security and penetration testing."
   ]
  },
  {
   "cell_type": "markdown",
   "id": "986dbb62-9e11-42dd-a0ed-e6ab920cf57f",
   "metadata": {},
   "source": [
    "Q14 how is memory managed in python ?"
   ]
  },
  {
   "cell_type": "markdown",
   "id": "453008f4-433e-4f20-a529-69efddb657ea",
   "metadata": {},
   "source": [
    "Ans 14 --"
   ]
  },
  {
   "cell_type": "markdown",
   "id": "7a1fecc5-175a-41de-b43a-787f97e212ca",
   "metadata": {},
   "source": [
    "Python involves a private heap containing all Python objects and data structures."
   ]
  },
  {
   "cell_type": "markdown",
   "id": "8fece57b-564e-4331-95e5-9ba67aee257e",
   "metadata": {},
   "source": [
    "Q15 how to install python on windows and set path variable ?"
   ]
  },
  {
   "cell_type": "markdown",
   "id": "4b4b7fae-0cc6-48c9-a8b2-f2999a0a619b",
   "metadata": {},
   "source": [
    "Ans 15 --"
   ]
  },
  {
   "cell_type": "markdown",
   "id": "2d942d7a-8135-4722-9cc4-f855b3df51d6",
   "metadata": {},
   "source": [
    "Right-clicking This PC and going to Properties \n",
    "Clicking on the Advanced system settings in the menu on the left \n",
    "Clicking on the Environment Variables button on the bottom right\n",
    "In the System variables section, selecting the Path variable and clicking on Edit\n",
    "The next screen will show all the directories that are currently a part of the PATH variable \n",
    "Clicking on New and entering Python’s install directory."
   ]
  },
  {
   "cell_type": "markdown",
   "id": "7ade2ef1-3018-4204-9d63-80da01f28c70",
   "metadata": {},
   "source": [
    "Q16 is indentation required in python ?"
   ]
  },
  {
   "cell_type": "markdown",
   "id": "92e63466-8b0a-4b08-a9b5-369bcc35fabf",
   "metadata": {},
   "source": [
    "Ans 16 --"
   ]
  },
  {
   "cell_type": "code",
   "execution_count": null,
   "id": "483e7271-516d-4ab7-87db-1f0b7625f5dc",
   "metadata": {},
   "outputs": [],
   "source": [
    "Indentation is important to Python because it's how you determine scope"
   ]
  }
 ],
 "metadata": {
  "kernelspec": {
   "display_name": "Python 3 (ipykernel)",
   "language": "python",
   "name": "python3"
  },
  "language_info": {
   "codemirror_mode": {
    "name": "ipython",
    "version": 3
   },
   "file_extension": ".py",
   "mimetype": "text/x-python",
   "name": "python",
   "nbconvert_exporter": "python",
   "pygments_lexer": "ipython3",
   "version": "3.10.8"
  }
 },
 "nbformat": 4,
 "nbformat_minor": 5
}
